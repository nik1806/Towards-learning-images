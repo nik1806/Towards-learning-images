{
 "cells": [
  {
   "cell_type": "markdown",
   "metadata": {},
   "source": [
    "## property() mothod\n",
    "It can be used in two ways:\n",
    "1. simply a method - property()\n",
    "2. As a decorator - @property\n",
    "\n",
    "Used to define new getters and setters without changing the code"
   ]
  },
  {
   "cell_type": "code",
   "execution_count": 2,
   "metadata": {},
   "outputs": [
    {
     "name": "stdout",
     "output_type": "stream",
     "text": [
      "set value\n",
      "set value\n",
      "get value\n",
      "wow\n"
     ]
    }
   ],
   "source": [
    "# sample class for property method\n",
    "class PropertyExample:\n",
    "    def __init__(self, default_val=''):\n",
    "        self.attri =  default_val\n",
    "    \n",
    "    def get_attri(self):\n",
    "        print(\"get value\")\n",
    "        return self._attri\n",
    "    \n",
    "    def set_attri(self, val):\n",
    "        print(\"set value\")\n",
    "        self._attri = val\n",
    "        \n",
    "    attri = property(get_attri, set_attri)\n",
    "        \n",
    "a =  PropertyExample()\n",
    "a.attri = \"wow\"\n",
    "print(a.attri)"
   ]
  },
  {
   "cell_type": "code",
   "execution_count": null,
   "metadata": {},
   "outputs": [],
   "source": [
    "# sample class for property decorator\n",
    "class propertyExample:\n",
    "    def __init__(self, default_val):\n",
    "        self.__attri =  default_val\n",
    "    \n",
    "    @property # getter # same name\n",
    "    def attri(self):\n",
    "        return self.__attri\n",
    "    \n",
    "    @attri.setter\n",
    "    def attri(self, val):\n",
    "        self.__attri = val"
   ]
  }
 ],
 "metadata": {
  "kernelspec": {
   "display_name": "Python 3",
   "language": "python",
   "name": "python3"
  },
  "language_info": {
   "codemirror_mode": {
    "name": "ipython",
    "version": 3
   },
   "file_extension": ".py",
   "mimetype": "text/x-python",
   "name": "python",
   "nbconvert_exporter": "python",
   "pygments_lexer": "ipython3",
   "version": "3.6.8"
  }
 },
 "nbformat": 4,
 "nbformat_minor": 2
}
